{
  "nbformat": 4,
  "nbformat_minor": 0,
  "metadata": {
    "kernelspec": {
      "display_name": "Python 3",
      "language": "python",
      "name": "python3"
    },
    "language_info": {
      "codemirror_mode": {
        "name": "ipython",
        "version": 3
      },
      "file_extension": ".py",
      "mimetype": "text/x-python",
      "name": "python",
      "nbconvert_exporter": "python",
      "pygments_lexer": "ipython3",
      "version": "3.8.5"
    },
    "colab": {
      "name": "numpy-array-operations.ipynb",
      "provenance": [],
      "include_colab_link": true
    }
  },
  "cells": [
    {
      "cell_type": "markdown",
      "metadata": {
        "id": "view-in-github",
        "colab_type": "text"
      },
      "source": [
        "<a href=\"https://colab.research.google.com/github/RadJeff7/zerotopandas-course/blob/main/numpy_array_operations.ipynb\" target=\"_parent\"><img src=\"https://colab.research.google.com/assets/colab-badge.svg\" alt=\"Open In Colab\"/></a>"
      ]
    },
    {
      "cell_type": "code",
      "metadata": {
        "id": "Fe341RnTm0fA"
      },
      "source": [
        "# Jovian Commit Essentials\n",
        "# Please retain and execute this cell without modifying the contents for `jovian.commit` to work\n",
        "!pip install jovian --upgrade -q\n",
        "import jovian\n",
        "jovian.utils.colab.set_colab_file_id('1I0p1ASukYEKbgJdHjCqI5oYQOYhNhScS')"
      ],
      "execution_count": null,
      "outputs": []
    },
    {
      "cell_type": "markdown",
      "metadata": {
        "id": "DJId1Dhdm0fG"
      },
      "source": [
        "> ### **Assignment 2 - Numpy Array Operations** \n",
        ">\n",
        "> This assignment is part of the course [\"Data Analysis with Python: Zero to Pandas\"](http://zerotopandas.com). The objective of this assignment is to develop a solid understanding of Numpy array operations. In this assignment you will:\n",
        "> \n",
        "> 1. Pick 5 interesting Numpy array functions by going through the documentation: https://numpy.org/doc/stable/reference/routines.html \n",
        "> 2. Run and modify this Jupyter notebook to illustrate their usage (some explanation and 3 examples for each function). Use your imagination to come up with interesting and unique examples.\n",
        "> 3. Upload this notebook to your Jovian profile using `jovian.commit` and make a submission here: https://jovian.ml/learn/data-analysis-with-python-zero-to-pandas/assignment/assignment-2-numpy-array-operations\n",
        "> 4. (Optional) Share your notebook online (on Twitter, LinkedIn, Facebook) and on the community forum thread: https://jovian.ml/forum/t/assignment-2-numpy-array-operations-share-your-work/10575 . \n",
        "> 5. (Optional) Check out the notebooks [shared by other participants](https://jovian.ml/forum/t/assignment-2-numpy-array-operations-share-your-work/10575) and give feedback & appreciation.\n",
        ">\n",
        "> The recommended way to run this notebook is to click the \"Run\" button at the top of this page, and select \"Run on Binder\". This will run the notebook on mybinder.org, a free online service for running Jupyter notebooks.\n",
        ">\n",
        "> Try to give your notebook a catchy title & subtitle e.g. \"All about Numpy array operations\", \"5 Numpy functions you didn't know you needed\", \"A beginner's guide to broadcasting in Numpy\", \"Interesting ways to create Numpy arrays\", \"Trigonometic functions in Numpy\", \"How to use Python for Linear Algebra\" etc.\n",
        ">\n",
        "> **NOTE**: Remove this block of explanation text before submitting or sharing your notebook online - to make it more presentable.\n",
        "\n",
        "\n",
        "# Some Interesting Numpy Functions\n",
        "\n",
        "\n",
        "### Here, we will take a look at five interesting numpy functions!\n",
        "\n",
        "Numpy is a python package for scientific computing that provides high-performance multidimensional arrays objects. This library is widely used for numerical analysis, matrix computations, and mathematical operations.\n",
        "\n",
        "### - numpy.full_like\n",
        "### - numpy.stack\n",
        "### - numpy.linspace\n",
        "### - numpy.reshape\n",
        "### - numpy.matmul\n",
        "\n",
        "The recommended way to run this notebook is to click the \"Run\" button at the top of this page, and select \"Run on Binder\". This will run the notebook on mybinder.org, a free online service for running Jupyter notebooks."
      ]
    },
    {
      "cell_type": "code",
      "metadata": {
        "id": "eqJQQev_m0fG"
      },
      "source": [
        "!pip install jovian --upgrade -q"
      ],
      "execution_count": null,
      "outputs": []
    },
    {
      "cell_type": "code",
      "metadata": {
        "id": "Z7VwkjSFm0fK"
      },
      "source": [
        "import jovian"
      ],
      "execution_count": null,
      "outputs": []
    },
    {
      "cell_type": "code",
      "metadata": {
        "id": "MIbUTLIkm0fO",
        "outputId": "84bcd7e4-c370-487f-e1b8-25e4021fc448"
      },
      "source": [
        "jovian.commit(project='numpy-array-operations-radjeff')"
      ],
      "execution_count": null,
      "outputs": [
        {
          "output_type": "display_data",
          "data": {
            "application/javascript": [
              "window.require && require([\"base/js/namespace\"],function(Jupyter){Jupyter.notebook.save_checkpoint()})"
            ],
            "text/plain": [
              "<IPython.core.display.Javascript object>"
            ]
          },
          "metadata": {
            "tags": []
          }
        },
        {
          "output_type": "stream",
          "text": [
            "[jovian] Attempting to save notebook..\u001b[0m\n",
            "[jovian] Updating notebook \"radjeff7/numpy-array-operations-radjeff\" on https://jovian.ml/\u001b[0m\n",
            "[jovian] Uploading notebook..\u001b[0m\n",
            "[jovian] Capturing environment..\u001b[0m\n",
            "[jovian] Committed successfully! https://jovian.ml/radjeff7/numpy-array-operations-radjeff\u001b[0m\n"
          ],
          "name": "stdout"
        },
        {
          "output_type": "execute_result",
          "data": {
            "text/plain": [
              "'https://jovian.ml/radjeff7/numpy-array-operations-radjeff'"
            ]
          },
          "metadata": {
            "tags": []
          },
          "execution_count": 62
        }
      ]
    },
    {
      "cell_type": "markdown",
      "metadata": {
        "id": "WEEpJn1am0fS"
      },
      "source": [
        "Let's begin by importing Numpy and listing out the functions covered in this notebook."
      ]
    },
    {
      "cell_type": "code",
      "metadata": {
        "id": "sHYCPLgmm0fT"
      },
      "source": [
        "import numpy as np"
      ],
      "execution_count": null,
      "outputs": []
    },
    {
      "cell_type": "code",
      "metadata": {
        "id": "Kv3a8G9em0fY",
        "outputId": "9f0f93e4-9fad-4ce4-cd80-d51d676687cd"
      },
      "source": [
        "# List of functions explained \n",
        "''' function1 = np.full_like \n",
        "function2 = ???\n",
        "function3 = ???\n",
        "function4 = ???\n",
        "function5 = ??? '''"
      ],
      "execution_count": null,
      "outputs": [
        {
          "output_type": "execute_result",
          "data": {
            "text/plain": [
              "' function1 = np.full_like \\nfunction2 = ???\\nfunction3 = ???\\nfunction4 = ???\\nfunction5 = ??? '"
            ]
          },
          "metadata": {
            "tags": []
          },
          "execution_count": 64
        }
      ]
    },
    {
      "cell_type": "markdown",
      "metadata": {
        "id": "QBgiUii8m0fb"
      },
      "source": [
        "## Function 1 - numpy.full_like \n",
        "\n",
        "\n",
        "            numpy.full_like(a, fill_value, dtype=None)\n",
        "\n",
        "Here, the function will return a full array with the same shape and type as a given array.\n",
        "\n",
        "#### Parameters\n",
        "\n",
        "\n",
        "a : This is the given array variable name.\n",
        "    The shape and data-type of a define these same attributes of the returned array.\n",
        "\n",
        "fill_value : The output array will be filled with this particular value.\n",
        "\n",
        "dtype : The given data-type (optional) will override the data type of the result.\n"
      ]
    },
    {
      "cell_type": "code",
      "metadata": {
        "id": "oUhmR2R7m0fc",
        "outputId": "f8458d4a-74e9-489c-8d85-8f00ebcd4311"
      },
      "source": [
        "# Example 1\n",
        "\n",
        "a = np.array([[1,2,3,4,5,6,7],[8,9,10,11,12,13,14]])\n",
        "print(a)\n",
        "\n",
        "out = np.full_like(a, 4)\n",
        "print(out)"
      ],
      "execution_count": null,
      "outputs": [
        {
          "output_type": "stream",
          "text": [
            "[[ 1  2  3  4  5  6  7]\n",
            " [ 8  9 10 11 12 13 14]]\n",
            "[[4 4 4 4 4 4 4]\n",
            " [4 4 4 4 4 4 4]]\n"
          ],
          "name": "stdout"
        }
      ]
    },
    {
      "cell_type": "markdown",
      "metadata": {
        "id": "2IrVEiOJm0ff"
      },
      "source": [
        "In the above example, the output array will be shaped like given array with all values as 4."
      ]
    },
    {
      "cell_type": "code",
      "metadata": {
        "id": "5r2DsISWm0fg",
        "outputId": "c247cb55-90f4-4ece-84ee-d6d2e311f956"
      },
      "source": [
        "# Example 2 - working\n",
        "x = np.arange(6, dtype=int)\n",
        "print(x)\n",
        "\n",
        "out = np.full_like(x, 0.1, dtype=np.double)\n",
        "print(out)"
      ],
      "execution_count": null,
      "outputs": [
        {
          "output_type": "stream",
          "text": [
            "[0 1 2 3 4 5]\n",
            "[0.1 0.1 0.1 0.1 0.1 0.1]\n"
          ],
          "name": "stdout"
        }
      ]
    },
    {
      "cell_type": "markdown",
      "metadata": {
        "id": "8F_awWQ-m0fi"
      },
      "source": [
        "In the above example, the output array will be filled with a double value."
      ]
    },
    {
      "cell_type": "code",
      "metadata": {
        "id": "Nc53Z2Bem0fj",
        "outputId": "c9ba2082-0e8d-4a2f-c35c-60213111142c"
      },
      "source": [
        "# Example 3 - breaking (to illustrate when it breaks)\n",
        "arr3 = [[[11, 14, 13], [1, 2, 5.5], \n",
        "        [3, 4., 6.25]]]\n",
        "\n",
        "out = np.full_like(arr3, 'x', dtype= np.double)\n",
        "print(out)"
      ],
      "execution_count": null,
      "outputs": [
        {
          "output_type": "error",
          "ename": "ValueError",
          "evalue": "could not convert string to float: 'x'",
          "traceback": [
            "\u001b[0;31m---------------------------------------------------------------------------\u001b[0m",
            "\u001b[0;31mValueError\u001b[0m                                Traceback (most recent call last)",
            "\u001b[0;32m<ipython-input-67-82cd8583c8cf>\u001b[0m in \u001b[0;36m<module>\u001b[0;34m\u001b[0m\n\u001b[1;32m      3\u001b[0m         [3, 4., 6.25]]]\n\u001b[1;32m      4\u001b[0m \u001b[0;34m\u001b[0m\u001b[0m\n\u001b[0;32m----> 5\u001b[0;31m \u001b[0mout\u001b[0m \u001b[0;34m=\u001b[0m \u001b[0mnp\u001b[0m\u001b[0;34m.\u001b[0m\u001b[0mfull_like\u001b[0m\u001b[0;34m(\u001b[0m\u001b[0marr3\u001b[0m\u001b[0;34m,\u001b[0m \u001b[0;34m'x'\u001b[0m\u001b[0;34m,\u001b[0m \u001b[0mdtype\u001b[0m\u001b[0;34m=\u001b[0m \u001b[0mnp\u001b[0m\u001b[0;34m.\u001b[0m\u001b[0mdouble\u001b[0m\u001b[0;34m)\u001b[0m\u001b[0;34m\u001b[0m\u001b[0;34m\u001b[0m\u001b[0m\n\u001b[0m\u001b[1;32m      6\u001b[0m \u001b[0mprint\u001b[0m\u001b[0;34m(\u001b[0m\u001b[0mout\u001b[0m\u001b[0;34m)\u001b[0m\u001b[0;34m\u001b[0m\u001b[0;34m\u001b[0m\u001b[0m\n",
            "\u001b[0;32m<__array_function__ internals>\u001b[0m in \u001b[0;36mfull_like\u001b[0;34m(*args, **kwargs)\u001b[0m\n",
            "\u001b[0;32m/srv/conda/envs/notebook/lib/python3.8/site-packages/numpy/core/numeric.py\u001b[0m in \u001b[0;36mfull_like\u001b[0;34m(a, fill_value, dtype, order, subok, shape)\u001b[0m\n\u001b[1;32m    381\u001b[0m     \"\"\"\n\u001b[1;32m    382\u001b[0m     \u001b[0mres\u001b[0m \u001b[0;34m=\u001b[0m \u001b[0mempty_like\u001b[0m\u001b[0;34m(\u001b[0m\u001b[0ma\u001b[0m\u001b[0;34m,\u001b[0m \u001b[0mdtype\u001b[0m\u001b[0;34m=\u001b[0m\u001b[0mdtype\u001b[0m\u001b[0;34m,\u001b[0m \u001b[0morder\u001b[0m\u001b[0;34m=\u001b[0m\u001b[0morder\u001b[0m\u001b[0;34m,\u001b[0m \u001b[0msubok\u001b[0m\u001b[0;34m=\u001b[0m\u001b[0msubok\u001b[0m\u001b[0;34m,\u001b[0m \u001b[0mshape\u001b[0m\u001b[0;34m=\u001b[0m\u001b[0mshape\u001b[0m\u001b[0;34m)\u001b[0m\u001b[0;34m\u001b[0m\u001b[0;34m\u001b[0m\u001b[0m\n\u001b[0;32m--> 383\u001b[0;31m     \u001b[0mmultiarray\u001b[0m\u001b[0;34m.\u001b[0m\u001b[0mcopyto\u001b[0m\u001b[0;34m(\u001b[0m\u001b[0mres\u001b[0m\u001b[0;34m,\u001b[0m \u001b[0mfill_value\u001b[0m\u001b[0;34m,\u001b[0m \u001b[0mcasting\u001b[0m\u001b[0;34m=\u001b[0m\u001b[0;34m'unsafe'\u001b[0m\u001b[0;34m)\u001b[0m\u001b[0;34m\u001b[0m\u001b[0;34m\u001b[0m\u001b[0m\n\u001b[0m\u001b[1;32m    384\u001b[0m     \u001b[0;32mreturn\u001b[0m \u001b[0mres\u001b[0m\u001b[0;34m\u001b[0m\u001b[0;34m\u001b[0m\u001b[0m\n\u001b[1;32m    385\u001b[0m \u001b[0;34m\u001b[0m\u001b[0m\n",
            "\u001b[0;32m<__array_function__ internals>\u001b[0m in \u001b[0;36mcopyto\u001b[0;34m(*args, **kwargs)\u001b[0m\n",
            "\u001b[0;31mValueError\u001b[0m: could not convert string to float: 'x'"
          ]
        }
      ]
    },
    {
      "cell_type": "markdown",
      "metadata": {
        "id": "3WGgxIVOm0fo"
      },
      "source": [
        "Here, the data type is not similar. so it raises a ValueError!"
      ]
    },
    {
      "cell_type": "markdown",
      "metadata": {
        "id": "aepPgzntm0fo"
      },
      "source": [
        "As it is a Numpy array creation routine, so it may be helpful to create a whole array with a singular value.\n"
      ]
    },
    {
      "cell_type": "code",
      "metadata": {
        "id": "NLSEVGrmm0fo"
      },
      "source": [
        "jovian.commit()"
      ],
      "execution_count": null,
      "outputs": []
    },
    {
      "cell_type": "markdown",
      "metadata": {
        "id": "8zXEw0d2m0fx"
      },
      "source": [
        "## Function 2 - numpy.stack\n",
        "\n",
        "            numpy.stack(arrays, axis=0, out=None)\n",
        "\n",
        "\n",
        "The numpy.stack function joins a sequence of arrays along a new axis. In contrast with numpy.concatenate it creates a new axis along the existing one/s. With the stack function the input arrays must have the same shape.\n",
        "\n",
        "### Parameters:\n",
        "\n",
        "- arrays: sequence of arrays, Each array must have the same shape.\n",
        "\n",
        "- axis: int value(optional). The axis parameter specifies the index of the new axis in the dimensions of the result. \n",
        "      \n",
        "      if axis=0 it will be the first dimension and if axis=-1 it will be the last dimension.\n",
        "\n",
        "\n",
        "- out: ndarray, optional.\n",
        "\n",
        "     If provided, the destination to place the result. The shape must be correct, matching that of what stack would have              returned if no out argument were specified.\n",
        "\n",
        "\n",
        "       The function returns stackedndarray\n",
        "The stacked array has one more dimension than the input arrays."
      ]
    },
    {
      "cell_type": "code",
      "metadata": {
        "id": "dPT1hXjTm0fy",
        "outputId": "75e1850a-62ca-4ccd-c70b-981a61823b7a"
      },
      "source": [
        "# Example 1 - working\n",
        "arr1 = np.array([[3, 4], \n",
        "                [5, 6.]])\n",
        "\n",
        "arr2 = np.array([[9, 6], \n",
        "                [7, 8]])\n",
        "\n",
        "out = np.stack((arr1, arr2), axis=1)\n",
        "print(arr1)\n",
        "print(arr2)\n",
        "print(out)"
      ],
      "execution_count": null,
      "outputs": [
        {
          "output_type": "stream",
          "text": [
            "[[3. 4.]\n",
            " [5. 6.]]\n",
            "[[9 6]\n",
            " [7 8]]\n",
            "[[[3. 4.]\n",
            "  [9. 6.]]\n",
            "\n",
            " [[5. 6.]\n",
            "  [7. 8.]]]\n"
          ],
          "name": "stdout"
        }
      ]
    },
    {
      "cell_type": "markdown",
      "metadata": {
        "id": "7K9gw72Ym0f3"
      },
      "source": [
        "Explanation about example"
      ]
    },
    {
      "cell_type": "code",
      "metadata": {
        "id": "bTl7f-9am0f4"
      },
      "source": [
        "# Example 2 - working\n",
        "arr3 = [[[1, 2, 3], [4, 5, 6], \n",
        "        [7, 8, 9]]]\n",
        "\n",
        "arr4 = [[[10, 11, 12], \n",
        "        [13, 14, 15], \n",
        "        [16, 17, 18]]]"
      ],
      "execution_count": null,
      "outputs": []
    },
    {
      "cell_type": "code",
      "metadata": {
        "id": "L-tJMNOCm0f8",
        "outputId": "49556ee8-636e-4f69-949e-8e70413eb136"
      },
      "source": [
        "out = np.stack((arr3, arr4), axis=0)\n",
        "print(out)\n",
        "print(out.shape)"
      ],
      "execution_count": null,
      "outputs": [
        {
          "output_type": "stream",
          "text": [
            "[[[[ 1  2  3]\n",
            "   [ 4  5  6]\n",
            "   [ 7  8  9]]]\n",
            "\n",
            "\n",
            " [[[10 11 12]\n",
            "   [13 14 15]\n",
            "   [16 17 18]]]]\n",
            "(2, 1, 3, 3)\n"
          ],
          "name": "stdout"
        }
      ]
    },
    {
      "cell_type": "code",
      "metadata": {
        "id": "TERUr41-m0f_",
        "outputId": "0de02e39-aa47-441f-ba3a-a904873da487"
      },
      "source": [
        "out = np.stack((arr3, arr4), axis=1)\n",
        "print(out)\n",
        "print(out.shape)"
      ],
      "execution_count": null,
      "outputs": [
        {
          "output_type": "stream",
          "text": [
            "[[[[ 1  2  3]\n",
            "   [ 4  5  6]\n",
            "   [ 7  8  9]]\n",
            "\n",
            "  [[10 11 12]\n",
            "   [13 14 15]\n",
            "   [16 17 18]]]]\n",
            "(1, 2, 3, 3)\n"
          ],
          "name": "stdout"
        }
      ]
    },
    {
      "cell_type": "code",
      "metadata": {
        "id": "2d4J86wGm0gM",
        "outputId": "f39f1881-c8c4-4c29-b2bd-7fa0d5a6e084"
      },
      "source": [
        "out = np.stack((arr3, arr4), axis=-1)\n",
        "print(out)\n",
        "print(out.shape)"
      ],
      "execution_count": null,
      "outputs": [
        {
          "output_type": "stream",
          "text": [
            "[[[[ 1 10]\n",
            "   [ 2 11]\n",
            "   [ 3 12]]\n",
            "\n",
            "  [[ 4 13]\n",
            "   [ 5 14]\n",
            "   [ 6 15]]\n",
            "\n",
            "  [[ 7 16]\n",
            "   [ 8 17]\n",
            "   [ 9 18]]]]\n",
            "(1, 3, 3, 2)\n"
          ],
          "name": "stdout"
        }
      ]
    },
    {
      "cell_type": "code",
      "metadata": {
        "id": "kN6dI-pwm0gP",
        "outputId": "ff48bd59-3e89-4742-dd67-9371e9a09361"
      },
      "source": [
        "out = np.stack((arr3, arr4), axis=2)\n",
        "print(out)\n",
        "print(out.shape)"
      ],
      "execution_count": null,
      "outputs": [
        {
          "output_type": "stream",
          "text": [
            "[[[[ 1  2  3]\n",
            "   [10 11 12]]\n",
            "\n",
            "  [[ 4  5  6]\n",
            "   [13 14 15]]\n",
            "\n",
            "  [[ 7  8  9]\n",
            "   [16 17 18]]]]\n",
            "(1, 3, 2, 3)\n"
          ],
          "name": "stdout"
        }
      ]
    },
    {
      "cell_type": "markdown",
      "metadata": {
        "id": "PyBzkTNwm0gS"
      },
      "source": [
        "Notice how by changinng the axis value we change how the arrays are arranged.\n",
        "\n",
        "We can confirm that an input of axis=-1 is somewhat equivalent to the transpose matrix operation, but only with the rows transformed into columns, resulting in three arrays with two columns each."
      ]
    },
    {
      "cell_type": "code",
      "metadata": {
        "id": "IE4kdAaRm0gS",
        "outputId": "53ee209e-1e53-4816-8726-7c02a83667ba"
      },
      "source": [
        "# Example 3 - breaking (to illustrate when it breaks)\n",
        "arr5 = [[1, 2], \n",
        "        [4, 3]]\n",
        "\n",
        "arr6 = [[5, 6, 7], \n",
        "        [8, 9, 10]]\n",
        "\n",
        "np.stack((arr5, arr6), axis=0)"
      ],
      "execution_count": null,
      "outputs": [
        {
          "output_type": "error",
          "ename": "ValueError",
          "evalue": "all input arrays must have the same shape",
          "traceback": [
            "\u001b[0;31m---------------------------------------------------------------------------\u001b[0m",
            "\u001b[0;31mValueError\u001b[0m                                Traceback (most recent call last)",
            "\u001b[0;32m<ipython-input-82-7e83571a6a82>\u001b[0m in \u001b[0;36m<module>\u001b[0;34m\u001b[0m\n\u001b[1;32m      6\u001b[0m         [8, 9, 10]]\n\u001b[1;32m      7\u001b[0m \u001b[0;34m\u001b[0m\u001b[0m\n\u001b[0;32m----> 8\u001b[0;31m \u001b[0mnp\u001b[0m\u001b[0;34m.\u001b[0m\u001b[0mstack\u001b[0m\u001b[0;34m(\u001b[0m\u001b[0;34m(\u001b[0m\u001b[0marr5\u001b[0m\u001b[0;34m,\u001b[0m \u001b[0marr6\u001b[0m\u001b[0;34m)\u001b[0m\u001b[0;34m,\u001b[0m \u001b[0maxis\u001b[0m\u001b[0;34m=\u001b[0m\u001b[0;36m0\u001b[0m\u001b[0;34m)\u001b[0m\u001b[0;34m\u001b[0m\u001b[0;34m\u001b[0m\u001b[0m\n\u001b[0m",
            "\u001b[0;32m<__array_function__ internals>\u001b[0m in \u001b[0;36mstack\u001b[0;34m(*args, **kwargs)\u001b[0m\n",
            "\u001b[0;32m/srv/conda/envs/notebook/lib/python3.8/site-packages/numpy/core/shape_base.py\u001b[0m in \u001b[0;36mstack\u001b[0;34m(arrays, axis, out)\u001b[0m\n\u001b[1;32m    425\u001b[0m     \u001b[0mshapes\u001b[0m \u001b[0;34m=\u001b[0m \u001b[0;34m{\u001b[0m\u001b[0marr\u001b[0m\u001b[0;34m.\u001b[0m\u001b[0mshape\u001b[0m \u001b[0;32mfor\u001b[0m \u001b[0marr\u001b[0m \u001b[0;32min\u001b[0m \u001b[0marrays\u001b[0m\u001b[0;34m}\u001b[0m\u001b[0;34m\u001b[0m\u001b[0;34m\u001b[0m\u001b[0m\n\u001b[1;32m    426\u001b[0m     \u001b[0;32mif\u001b[0m \u001b[0mlen\u001b[0m\u001b[0;34m(\u001b[0m\u001b[0mshapes\u001b[0m\u001b[0;34m)\u001b[0m \u001b[0;34m!=\u001b[0m \u001b[0;36m1\u001b[0m\u001b[0;34m:\u001b[0m\u001b[0;34m\u001b[0m\u001b[0;34m\u001b[0m\u001b[0m\n\u001b[0;32m--> 427\u001b[0;31m         \u001b[0;32mraise\u001b[0m \u001b[0mValueError\u001b[0m\u001b[0;34m(\u001b[0m\u001b[0;34m'all input arrays must have the same shape'\u001b[0m\u001b[0;34m)\u001b[0m\u001b[0;34m\u001b[0m\u001b[0;34m\u001b[0m\u001b[0m\n\u001b[0m\u001b[1;32m    428\u001b[0m \u001b[0;34m\u001b[0m\u001b[0m\n\u001b[1;32m    429\u001b[0m     \u001b[0mresult_ndim\u001b[0m \u001b[0;34m=\u001b[0m \u001b[0marrays\u001b[0m\u001b[0;34m[\u001b[0m\u001b[0;36m0\u001b[0m\u001b[0;34m]\u001b[0m\u001b[0;34m.\u001b[0m\u001b[0mndim\u001b[0m \u001b[0;34m+\u001b[0m \u001b[0;36m1\u001b[0m\u001b[0;34m\u001b[0m\u001b[0;34m\u001b[0m\u001b[0m\n",
            "\u001b[0;31mValueError\u001b[0m: all input arrays must have the same shape"
          ]
        }
      ]
    },
    {
      "cell_type": "markdown",
      "metadata": {
        "id": "HzEZX7Xdm0gV"
      },
      "source": [
        "The stack function will return an error if the input dimension of the first index (rows or lines) are different.\n",
        "\n",
        "So, we need to give two arrays with the same shape for the np.stack to work properly!\n"
      ]
    },
    {
      "cell_type": "markdown",
      "metadata": {
        "id": "3eqltEI9m0gV"
      },
      "source": [
        "\n",
        "We noticed that we stacked three arrays with 3 dimensions each. The final results were all 4 dimensional arrays. Hence the stack function may be useful in situations when we need to increase the dimension of our numerical dataset for some numerical operations, or when we want iterate over arrays of diferent dimensions, but want to have a final result with a higher dimension."
      ]
    },
    {
      "cell_type": "code",
      "metadata": {
        "id": "OSMX9zsLm0gW",
        "outputId": "b1a3dbef-a35f-4d2a-b5b7-680f18ad517e"
      },
      "source": [
        "jovian.commit()"
      ],
      "execution_count": null,
      "outputs": [
        {
          "output_type": "display_data",
          "data": {
            "application/javascript": [
              "window.require && require([\"base/js/namespace\"],function(Jupyter){Jupyter.notebook.save_checkpoint()})"
            ],
            "text/plain": [
              "<IPython.core.display.Javascript object>"
            ]
          },
          "metadata": {
            "tags": []
          }
        },
        {
          "output_type": "stream",
          "text": [
            "[jovian] Attempting to save notebook..\u001b[0m\n",
            "[jovian] Updating notebook \"radjeff7/numpy-array-operations-radjeff\" on https://jovian.ml/\u001b[0m\n",
            "[jovian] Uploading notebook..\u001b[0m\n",
            "[jovian] Capturing environment..\u001b[0m\n",
            "[jovian] Committed successfully! https://jovian.ml/radjeff7/numpy-array-operations-radjeff\u001b[0m\n"
          ],
          "name": "stdout"
        },
        {
          "output_type": "execute_result",
          "data": {
            "text/plain": [
              "'https://jovian.ml/radjeff7/numpy-array-operations-radjeff'"
            ]
          },
          "metadata": {
            "tags": []
          },
          "execution_count": 83
        }
      ]
    },
    {
      "cell_type": "markdown",
      "metadata": {
        "id": "IxT2oOR0m0gZ"
      },
      "source": [
        "## Function 3 - numpy.linspace\n",
        "\n",
        "        numpy.linspace(start, stop, num=50, endpoint=True, retstep=False, dtype=None, axis=0)\n",
        "       \n",
        "\n",
        "This function returns evenly spaced numbers over a specified interval defined by the first two arguments of the function.\n",
        "\n",
        "\n",
        "### Parameters:\n",
        "\n",
        "- **start, stop** : required argument. Defines the starting value & end value of the sequence.\n",
        "\n",
        "- **num** : Integer(optional). Defines number of samples to generate. Default is 50. \n",
        "\n",
        "- **endpoint** : Boolean(optional). If True, stop is the last sample. Otherwise, it is not included. Default is True.So, we have to keep in mind while working with this function is that the stop element is provided in the returned array (by default endpoint=True), unlike in the built-in python function range.\n",
        "\n",
        "- **retstep** : Boolean(optional). If True, return (samples, step), where step is the spacing between samples.\n",
        "\n",
        "- **dtype** : data_type(optional) The type of the output array. If dtype is not given, infer the data type from the other input              arguments.\n",
        "\n",
        "- **axis** : Integer(optional). The axis in the result to store the samples. \n"
      ]
    },
    {
      "cell_type": "code",
      "metadata": {
        "id": "T45hhpaOm0ga",
        "outputId": "cc6f467c-5b9b-4363-e185-edd0b7a6b068"
      },
      "source": [
        "# Example 1 - working\n",
        "out = np.linspace(5, 7, num=5)\n",
        "print(out)\n",
        "\n",
        "out = np.linspace(5, 7, num=5, endpoint=False)\n",
        "print(out)\n",
        "\n",
        "out = np.linspace(5, 7, num=5, retstep=True)\n",
        "print(out)"
      ],
      "execution_count": null,
      "outputs": [
        {
          "output_type": "stream",
          "text": [
            "[5.  5.5 6.  6.5 7. ]\n",
            "[5.  5.4 5.8 6.2 6.6]\n",
            "(array([5. , 5.5, 6. , 6.5, 7. ]), 0.5)\n"
          ],
          "name": "stdout"
        }
      ]
    },
    {
      "cell_type": "markdown",
      "metadata": {
        "id": "AZaSHRrqm0gc"
      },
      "source": [
        "Explanation about example"
      ]
    },
    {
      "cell_type": "code",
      "metadata": {
        "id": "EYnElB4bm0gc",
        "outputId": "71c14e6a-5e0b-4ede-f093-8fd27ddcbbca"
      },
      "source": [
        "# Example 2 - working\n",
        "\n",
        "out = np.linspace([0,1.5],[1,-2],10,endpoint=False, axis=1)\n",
        "print(out)\n",
        "np.shape(out)"
      ],
      "execution_count": null,
      "outputs": [
        {
          "output_type": "stream",
          "text": [
            "[[ 0.    0.1   0.2   0.3   0.4   0.5   0.6   0.7   0.8   0.9 ]\n",
            " [ 1.5   1.15  0.8   0.45  0.1  -0.25 -0.6  -0.95 -1.3  -1.65]]\n"
          ],
          "name": "stdout"
        },
        {
          "output_type": "execute_result",
          "data": {
            "text/plain": [
              "(2, 10)"
            ]
          },
          "metadata": {
            "tags": []
          },
          "execution_count": 85
        }
      ]
    },
    {
      "cell_type": "markdown",
      "metadata": {
        "id": "GC1oe_XBm0gf"
      },
      "source": [
        "The function can also generate multiple ranges. The function can also input negetive values for specitying the range.\n",
        "\n",
        "Here, Two arrays with respective range (0,1) and (1.5, -2) are generated."
      ]
    },
    {
      "cell_type": "code",
      "metadata": {
        "id": "7VyQStP0m0gg",
        "outputId": "235b7a91-b309-40a1-9fc0-b60cd6d1ad4f"
      },
      "source": [
        "# Example 3 - breaking (to illustrate when it breaks)\n",
        "\n",
        "out = np.linspace(5, 7, num=-5, endpoint=False)"
      ],
      "execution_count": null,
      "outputs": [
        {
          "output_type": "error",
          "ename": "ValueError",
          "evalue": "Number of samples, -5, must be non-negative.",
          "traceback": [
            "\u001b[0;31m---------------------------------------------------------------------------\u001b[0m",
            "\u001b[0;31mValueError\u001b[0m                                Traceback (most recent call last)",
            "\u001b[0;32m<ipython-input-86-a29375cef849>\u001b[0m in \u001b[0;36m<module>\u001b[0;34m\u001b[0m\n\u001b[1;32m      1\u001b[0m \u001b[0;31m# Example 3 - breaking (to illustrate when it breaks)\u001b[0m\u001b[0;34m\u001b[0m\u001b[0;34m\u001b[0m\u001b[0;34m\u001b[0m\u001b[0m\n\u001b[1;32m      2\u001b[0m \u001b[0;34m\u001b[0m\u001b[0m\n\u001b[0;32m----> 3\u001b[0;31m \u001b[0mout\u001b[0m \u001b[0;34m=\u001b[0m \u001b[0mnp\u001b[0m\u001b[0;34m.\u001b[0m\u001b[0mlinspace\u001b[0m\u001b[0;34m(\u001b[0m\u001b[0;36m5\u001b[0m\u001b[0;34m,\u001b[0m \u001b[0;36m7\u001b[0m\u001b[0;34m,\u001b[0m \u001b[0mnum\u001b[0m\u001b[0;34m=\u001b[0m\u001b[0;34m-\u001b[0m\u001b[0;36m5\u001b[0m\u001b[0;34m,\u001b[0m \u001b[0mendpoint\u001b[0m\u001b[0;34m=\u001b[0m\u001b[0;32mFalse\u001b[0m\u001b[0;34m)\u001b[0m\u001b[0;34m\u001b[0m\u001b[0;34m\u001b[0m\u001b[0m\n\u001b[0m",
            "\u001b[0;32m<__array_function__ internals>\u001b[0m in \u001b[0;36mlinspace\u001b[0;34m(*args, **kwargs)\u001b[0m\n",
            "\u001b[0;32m/srv/conda/envs/notebook/lib/python3.8/site-packages/numpy/core/function_base.py\u001b[0m in \u001b[0;36mlinspace\u001b[0;34m(start, stop, num, endpoint, retstep, dtype, axis)\u001b[0m\n\u001b[1;32m    113\u001b[0m     \u001b[0mnum\u001b[0m \u001b[0;34m=\u001b[0m \u001b[0moperator\u001b[0m\u001b[0;34m.\u001b[0m\u001b[0mindex\u001b[0m\u001b[0;34m(\u001b[0m\u001b[0mnum\u001b[0m\u001b[0;34m)\u001b[0m\u001b[0;34m\u001b[0m\u001b[0;34m\u001b[0m\u001b[0m\n\u001b[1;32m    114\u001b[0m     \u001b[0;32mif\u001b[0m \u001b[0mnum\u001b[0m \u001b[0;34m<\u001b[0m \u001b[0;36m0\u001b[0m\u001b[0;34m:\u001b[0m\u001b[0;34m\u001b[0m\u001b[0;34m\u001b[0m\u001b[0m\n\u001b[0;32m--> 115\u001b[0;31m         \u001b[0;32mraise\u001b[0m \u001b[0mValueError\u001b[0m\u001b[0;34m(\u001b[0m\u001b[0;34m\"Number of samples, %s, must be non-negative.\"\u001b[0m \u001b[0;34m%\u001b[0m \u001b[0mnum\u001b[0m\u001b[0;34m)\u001b[0m\u001b[0;34m\u001b[0m\u001b[0;34m\u001b[0m\u001b[0m\n\u001b[0m\u001b[1;32m    116\u001b[0m     \u001b[0mdiv\u001b[0m \u001b[0;34m=\u001b[0m \u001b[0;34m(\u001b[0m\u001b[0mnum\u001b[0m \u001b[0;34m-\u001b[0m \u001b[0;36m1\u001b[0m\u001b[0;34m)\u001b[0m \u001b[0;32mif\u001b[0m \u001b[0mendpoint\u001b[0m \u001b[0;32melse\u001b[0m \u001b[0mnum\u001b[0m\u001b[0;34m\u001b[0m\u001b[0;34m\u001b[0m\u001b[0m\n\u001b[1;32m    117\u001b[0m \u001b[0;34m\u001b[0m\u001b[0m\n",
            "\u001b[0;31mValueError\u001b[0m: Number of samples, -5, must be non-negative."
          ]
        }
      ]
    },
    {
      "cell_type": "markdown",
      "metadata": {
        "id": "KpktP4mLm0gj"
      },
      "source": [
        "The number of samples shuld not be negative.\n"
      ]
    },
    {
      "cell_type": "markdown",
      "metadata": {
        "id": "0e3WxDV4m0gj"
      },
      "source": [
        "So, we see that Linspace function can be used to generate evenly spaced samples for the x-axis. For instance, if we want to plot a mathematical function, we can easily generate samples for the x-axis by using the numpy.linspace function.\n"
      ]
    },
    {
      "cell_type": "code",
      "metadata": {
        "id": "iLLZACKum0gk",
        "outputId": "315716a1-86ea-4a9f-f386-98722773b22a"
      },
      "source": [
        "jovian.commit()"
      ],
      "execution_count": null,
      "outputs": [
        {
          "output_type": "display_data",
          "data": {
            "application/javascript": [
              "window.require && require([\"base/js/namespace\"],function(Jupyter){Jupyter.notebook.save_checkpoint()})"
            ],
            "text/plain": [
              "<IPython.core.display.Javascript object>"
            ]
          },
          "metadata": {
            "tags": []
          }
        },
        {
          "output_type": "stream",
          "text": [
            "[jovian] Attempting to save notebook..\u001b[0m\n",
            "[jovian] Updating notebook \"radjeff7/numpy-array-operations-radjeff\" on https://jovian.ml/\u001b[0m\n",
            "[jovian] Uploading notebook..\u001b[0m\n",
            "[jovian] Capturing environment..\u001b[0m\n",
            "[jovian] Committed successfully! https://jovian.ml/radjeff7/numpy-array-operations-radjeff\u001b[0m\n"
          ],
          "name": "stdout"
        },
        {
          "output_type": "execute_result",
          "data": {
            "text/plain": [
              "'https://jovian.ml/radjeff7/numpy-array-operations-radjeff'"
            ]
          },
          "metadata": {
            "tags": []
          },
          "execution_count": 87
        }
      ]
    },
    {
      "cell_type": "markdown",
      "metadata": {
        "id": "qnvYan1wm0gq"
      },
      "source": [
        "## Function 4 - numpy.reshape\n",
        "\n",
        "        numpy.reshape(a, newshape, order='C')\n",
        "        \n",
        "The Numpy.reshape function gives us the ability to change the shape of an array without changing the content(data) of the array.\n",
        "\n",
        "### Parameters: \n",
        "\n",
        "- **a** : array to be reshaped.\n",
        "- **newshape** : Integer or Tuple of integers. The new shape should be compatible with the original shape. \n",
        "- **order** : It is a optional Parameter. These values are possible {‘C’, ‘F’, ‘A’}. This parameter directs to read the elements of a using this index order, and place the elements into the reshaped array using this index order."
      ]
    },
    {
      "cell_type": "code",
      "metadata": {
        "scrolled": true,
        "id": "lNWvXa61m0gr",
        "outputId": "d05b2c55-8a20-4ef3-b663-6e1d59638d69"
      },
      "source": [
        "# Example 1 - working\n",
        "\n",
        "before = np.array([[1,2,3,4],[5,6,7,8]])\n",
        "print(before)\n"
      ],
      "execution_count": null,
      "outputs": [
        {
          "output_type": "stream",
          "text": [
            "[[1 2 3 4]\n",
            " [5 6 7 8]]\n"
          ],
          "name": "stdout"
        }
      ]
    },
    {
      "cell_type": "code",
      "metadata": {
        "id": "9kEYIsodm0gu",
        "outputId": "48c4b48f-3a5f-46be-8a75-7c49663d9f8a"
      },
      "source": [
        "after = np.reshape(before, (4,2))\n",
        "print(after)\n"
      ],
      "execution_count": null,
      "outputs": [
        {
          "output_type": "stream",
          "text": [
            "[[1 2]\n",
            " [3 4]\n",
            " [5 6]\n",
            " [7 8]]\n"
          ],
          "name": "stdout"
        }
      ]
    },
    {
      "cell_type": "code",
      "metadata": {
        "scrolled": true,
        "id": "iUFMvteOm0gw",
        "outputId": "2cda1e84-ac7b-49a6-da07-e9b463f45a03"
      },
      "source": [
        "after = np.reshape(before, 8)\n",
        "print(after)"
      ],
      "execution_count": null,
      "outputs": [
        {
          "output_type": "stream",
          "text": [
            "[1 2 3 4 5 6 7 8]\n"
          ],
          "name": "stdout"
        }
      ]
    },
    {
      "cell_type": "code",
      "metadata": {
        "id": "nmjZWsV5m0gy",
        "outputId": "36da0f5e-6988-4af1-ebb3-d62e0fea8937"
      },
      "source": [
        "after = np.reshape(before, (2,2,2))\n",
        "print(after)"
      ],
      "execution_count": null,
      "outputs": [
        {
          "output_type": "stream",
          "text": [
            "[[[1 2]\n",
            "  [3 4]]\n",
            "\n",
            " [[5 6]\n",
            "  [7 8]]]\n"
          ],
          "name": "stdout"
        }
      ]
    },
    {
      "cell_type": "markdown",
      "metadata": {
        "id": "SYlA4-sIm0g0"
      },
      "source": [
        "We can now resahpe this array created with a changed ordering of the inputs indexes to the reshape function.\n",
        "We can supply only 1 integer as newshape to create a 1D array or we can supply tuple of integers to get the desired shape.\n"
      ]
    },
    {
      "cell_type": "code",
      "metadata": {
        "id": "yzJiFm5_m0g1",
        "outputId": "fe5a3134-108c-402b-af01-f353f82a6d89"
      },
      "source": [
        "# Example 2 - working\n",
        "b = np.arange(10).reshape((5, 2))\n",
        "print(b)"
      ],
      "execution_count": null,
      "outputs": [
        {
          "output_type": "stream",
          "text": [
            "[[0 1]\n",
            " [2 3]\n",
            " [4 5]\n",
            " [6 7]\n",
            " [8 9]]\n"
          ],
          "name": "stdout"
        }
      ]
    },
    {
      "cell_type": "code",
      "metadata": {
        "id": "pxLccFz2m0g5",
        "outputId": "5af6f091-e2c1-44c9-f7ee-ece0b9d8443f"
      },
      "source": [
        "b = np.arange(10).reshape((5, 2), order='F')\n",
        "print(b)"
      ],
      "execution_count": null,
      "outputs": [
        {
          "output_type": "stream",
          "text": [
            "[[0 5]\n",
            " [1 6]\n",
            " [2 7]\n",
            " [3 8]\n",
            " [4 9]]\n"
          ],
          "name": "stdout"
        }
      ]
    },
    {
      "cell_type": "markdown",
      "metadata": {
        "id": "V50e_Yoxm0g8"
      },
      "source": [
        "Also, this function supports different types of orderings named as 'C' for ravel type shown above and 'F' for Fortran type shown below.\n",
        "\n",
        "‘C’ means to read / write the elements using C-like index order, with the last axis index changing fastest, back to the first axis index changing slowest. ‘F’ means to read / write the elements using Fortran-like index order, with the first index changing fastest, and the last index changing slowest."
      ]
    },
    {
      "cell_type": "code",
      "metadata": {
        "id": "H_sDzwRHm0g8",
        "outputId": "45ba510c-9ef3-4fa8-d8c0-e762b03e2c57"
      },
      "source": [
        "# Example 3 - breaking (to illustrate when it breaks)\n",
        "\n",
        "before = np.array([[1,2,3,4],[5,6,7,8]])\n",
        "print(before)\n",
        "\n",
        "after = np.reshape(before, (2,3))"
      ],
      "execution_count": null,
      "outputs": [
        {
          "output_type": "stream",
          "text": [
            "[[1 2 3 4]\n",
            " [5 6 7 8]]\n"
          ],
          "name": "stdout"
        },
        {
          "output_type": "error",
          "ename": "ValueError",
          "evalue": "cannot reshape array of size 8 into shape (2,3)",
          "traceback": [
            "\u001b[0;31m---------------------------------------------------------------------------\u001b[0m",
            "\u001b[0;31mValueError\u001b[0m                                Traceback (most recent call last)",
            "\u001b[0;32m<ipython-input-94-8466ead3867e>\u001b[0m in \u001b[0;36m<module>\u001b[0;34m\u001b[0m\n\u001b[1;32m      4\u001b[0m \u001b[0mprint\u001b[0m\u001b[0;34m(\u001b[0m\u001b[0mbefore\u001b[0m\u001b[0;34m)\u001b[0m\u001b[0;34m\u001b[0m\u001b[0;34m\u001b[0m\u001b[0m\n\u001b[1;32m      5\u001b[0m \u001b[0;34m\u001b[0m\u001b[0m\n\u001b[0;32m----> 6\u001b[0;31m \u001b[0mafter\u001b[0m \u001b[0;34m=\u001b[0m \u001b[0mnp\u001b[0m\u001b[0;34m.\u001b[0m\u001b[0mreshape\u001b[0m\u001b[0;34m(\u001b[0m\u001b[0mbefore\u001b[0m\u001b[0;34m,\u001b[0m \u001b[0;34m(\u001b[0m\u001b[0;36m2\u001b[0m\u001b[0;34m,\u001b[0m\u001b[0;36m3\u001b[0m\u001b[0;34m)\u001b[0m\u001b[0;34m)\u001b[0m\u001b[0;34m\u001b[0m\u001b[0;34m\u001b[0m\u001b[0m\n\u001b[0m",
            "\u001b[0;32m<__array_function__ internals>\u001b[0m in \u001b[0;36mreshape\u001b[0;34m(*args, **kwargs)\u001b[0m\n",
            "\u001b[0;32m/srv/conda/envs/notebook/lib/python3.8/site-packages/numpy/core/fromnumeric.py\u001b[0m in \u001b[0;36mreshape\u001b[0;34m(a, newshape, order)\u001b[0m\n\u001b[1;32m    297\u001b[0m            [5, 6]])\n\u001b[1;32m    298\u001b[0m     \"\"\"\n\u001b[0;32m--> 299\u001b[0;31m     \u001b[0;32mreturn\u001b[0m \u001b[0m_wrapfunc\u001b[0m\u001b[0;34m(\u001b[0m\u001b[0ma\u001b[0m\u001b[0;34m,\u001b[0m \u001b[0;34m'reshape'\u001b[0m\u001b[0;34m,\u001b[0m \u001b[0mnewshape\u001b[0m\u001b[0;34m,\u001b[0m \u001b[0morder\u001b[0m\u001b[0;34m=\u001b[0m\u001b[0morder\u001b[0m\u001b[0;34m)\u001b[0m\u001b[0;34m\u001b[0m\u001b[0;34m\u001b[0m\u001b[0m\n\u001b[0m\u001b[1;32m    300\u001b[0m \u001b[0;34m\u001b[0m\u001b[0m\n\u001b[1;32m    301\u001b[0m \u001b[0;34m\u001b[0m\u001b[0m\n",
            "\u001b[0;32m/srv/conda/envs/notebook/lib/python3.8/site-packages/numpy/core/fromnumeric.py\u001b[0m in \u001b[0;36m_wrapfunc\u001b[0;34m(obj, method, *args, **kwds)\u001b[0m\n\u001b[1;32m     56\u001b[0m \u001b[0;34m\u001b[0m\u001b[0m\n\u001b[1;32m     57\u001b[0m     \u001b[0;32mtry\u001b[0m\u001b[0;34m:\u001b[0m\u001b[0;34m\u001b[0m\u001b[0;34m\u001b[0m\u001b[0m\n\u001b[0;32m---> 58\u001b[0;31m         \u001b[0;32mreturn\u001b[0m \u001b[0mbound\u001b[0m\u001b[0;34m(\u001b[0m\u001b[0;34m*\u001b[0m\u001b[0margs\u001b[0m\u001b[0;34m,\u001b[0m \u001b[0;34m**\u001b[0m\u001b[0mkwds\u001b[0m\u001b[0;34m)\u001b[0m\u001b[0;34m\u001b[0m\u001b[0;34m\u001b[0m\u001b[0m\n\u001b[0m\u001b[1;32m     59\u001b[0m     \u001b[0;32mexcept\u001b[0m \u001b[0mTypeError\u001b[0m\u001b[0;34m:\u001b[0m\u001b[0;34m\u001b[0m\u001b[0;34m\u001b[0m\u001b[0m\n\u001b[1;32m     60\u001b[0m         \u001b[0;31m# A TypeError occurs if the object does have such a method in its\u001b[0m\u001b[0;34m\u001b[0m\u001b[0;34m\u001b[0m\u001b[0;34m\u001b[0m\u001b[0m\n",
            "\u001b[0;31mValueError\u001b[0m: cannot reshape array of size 8 into shape (2,3)"
          ]
        }
      ]
    },
    {
      "cell_type": "markdown",
      "metadata": {
        "id": "5lVAPit5m0g-"
      },
      "source": [
        "Here, the error occurs because size incompatibility. The new shape should be compatible with the original shape."
      ]
    },
    {
      "cell_type": "markdown",
      "metadata": {
        "id": "lQ1S8mlFm0g-"
      },
      "source": [
        "The reshape function can be useful in many situations in numerical computing. For instance when we need to perform a matrix multiplication of two matrices (two dimensional arrays) but with one of the array not compatible with the specified order of multilication."
      ]
    },
    {
      "cell_type": "code",
      "metadata": {
        "id": "C6ZnGhMrm0g_",
        "outputId": "6e9425fc-79cc-424d-eb43-dc9bbd5eb2f2"
      },
      "source": [
        "jovian.commit()"
      ],
      "execution_count": null,
      "outputs": [
        {
          "output_type": "display_data",
          "data": {
            "application/javascript": [
              "window.require && require([\"base/js/namespace\"],function(Jupyter){Jupyter.notebook.save_checkpoint()})"
            ],
            "text/plain": [
              "<IPython.core.display.Javascript object>"
            ]
          },
          "metadata": {
            "tags": []
          }
        },
        {
          "output_type": "stream",
          "text": [
            "[jovian] Attempting to save notebook..\u001b[0m\n",
            "[jovian] Updating notebook \"radjeff7/numpy-array-operations-radjeff\" on https://jovian.ml/\u001b[0m\n",
            "[jovian] Uploading notebook..\u001b[0m\n",
            "[jovian] Capturing environment..\u001b[0m\n",
            "[jovian] Committed successfully! https://jovian.ml/radjeff7/numpy-array-operations-radjeff\u001b[0m\n"
          ],
          "name": "stdout"
        },
        {
          "output_type": "execute_result",
          "data": {
            "text/plain": [
              "'https://jovian.ml/radjeff7/numpy-array-operations-radjeff'"
            ]
          },
          "metadata": {
            "tags": []
          },
          "execution_count": 71
        }
      ]
    },
    {
      "cell_type": "markdown",
      "metadata": {
        "id": "FhiNxAfGm0hC"
      },
      "source": [
        "## Function 5 - numpy.matmul\n",
        "\n",
        "The Numpy matmul() function is used to return the matrix product of 2 arrays. \n",
        "       \n",
        "       numpy.matmul(x, y, out=None)\n",
        "\n",
        "1) For 2-D arrays, it returns normal product.\n",
        "\n",
        "2) For Dimensions > 2, the product is treated as a stack of matrix.\n",
        "\n",
        "3) For 1-D array is first promoted to a matrix by appending a 1 to its dimension, which is removed after multiplication.\n",
        "\n",
        "\n",
        "### Parameters : \n",
        "\n",
        "- x, y : Input arrays, scalars not allowed.\n",
        "\n",
        "- out : ndarray, optional. A location into which the result is stored. If provided, it must have a shape that matches the signature \n",
        "\n"
      ]
    },
    {
      "cell_type": "code",
      "metadata": {
        "id": "kD8Zsv7sm0hC",
        "outputId": "851840fb-c775-4211-a622-93f04778f47c"
      },
      "source": [
        "# Example 1 - working\n",
        "\n",
        "a = np.ones((2,3))\n",
        "print(a)\n",
        "\n",
        "b = np.full((3,2), 2)\n",
        "print(b)\n",
        "\n",
        "np.matmul(a,b)"
      ],
      "execution_count": null,
      "outputs": [
        {
          "output_type": "stream",
          "text": [
            "[[1. 1. 1.]\n",
            " [1. 1. 1.]]\n",
            "[[2 2]\n",
            " [2 2]\n",
            " [2 2]]\n"
          ],
          "name": "stdout"
        },
        {
          "output_type": "execute_result",
          "data": {
            "text/plain": [
              "array([[6., 6.],\n",
              "       [6., 6.]])"
            ]
          },
          "metadata": {
            "tags": []
          },
          "execution_count": 72
        }
      ]
    },
    {
      "cell_type": "markdown",
      "metadata": {
        "id": "7nozpSlPm0hF"
      },
      "source": [
        "here the column of first matrix and row of second matrix is of same value. So np.matmul() returns the Matrix multiplication result."
      ]
    },
    {
      "cell_type": "code",
      "metadata": {
        "id": "r3evbg3Dm0hF",
        "outputId": "1c308ef2-64d2-4f40-87db-ab8e78a9a483"
      },
      "source": [
        "# Example 2 - working\n",
        "\n",
        "# one array having dimensions > 2 \n",
        "\n",
        "a = np.arange(8).reshape(2,2,2) \n",
        "b = np.arange(4).reshape(2,2) \n",
        "print(np.matmul(a,b))\n",
        "print(np.matmul(a,b).shape)"
      ],
      "execution_count": null,
      "outputs": [
        {
          "output_type": "stream",
          "text": [
            "[[[ 2  3]\n",
            "  [ 6 11]]\n",
            "\n",
            " [[10 19]\n",
            "  [14 27]]]\n",
            "(2, 2, 2)\n"
          ],
          "name": "stdout"
        }
      ]
    },
    {
      "cell_type": "markdown",
      "metadata": {
        "id": "3giUn22ym0hH"
      },
      "source": [
        "In the above example, one array having Dimensions > 2, So it is treated as a stack of matrices residing in the last two indexes and broadcasted accordingly."
      ]
    },
    {
      "cell_type": "code",
      "metadata": {
        "id": "kG6ITJBlm0hI",
        "outputId": "917bd6e2-e157-443a-b02b-c32dee32557e"
      },
      "source": [
        "# Example 3 - breaking (to illustrate when it breaks)\n",
        "np.matmul([1,2], 3)"
      ],
      "execution_count": null,
      "outputs": [
        {
          "output_type": "error",
          "ename": "ValueError",
          "evalue": "matmul: Input operand 1 does not have enough dimensions (has 0, gufunc core with signature (n?,k),(k,m?)->(n?,m?) requires 1)",
          "traceback": [
            "\u001b[0;31m---------------------------------------------------------------------------\u001b[0m",
            "\u001b[0;31mValueError\u001b[0m                                Traceback (most recent call last)",
            "\u001b[0;32m<ipython-input-74-66a3a250bad8>\u001b[0m in \u001b[0;36m<module>\u001b[0;34m\u001b[0m\n\u001b[1;32m      1\u001b[0m \u001b[0;31m# Example 3 - breaking (to illustrate when it breaks)\u001b[0m\u001b[0;34m\u001b[0m\u001b[0;34m\u001b[0m\u001b[0;34m\u001b[0m\u001b[0m\n\u001b[0;32m----> 2\u001b[0;31m \u001b[0mnp\u001b[0m\u001b[0;34m.\u001b[0m\u001b[0mmatmul\u001b[0m\u001b[0;34m(\u001b[0m\u001b[0;34m[\u001b[0m\u001b[0;36m1\u001b[0m\u001b[0;34m,\u001b[0m\u001b[0;36m2\u001b[0m\u001b[0;34m]\u001b[0m\u001b[0;34m,\u001b[0m \u001b[0;36m3\u001b[0m\u001b[0;34m)\u001b[0m\u001b[0;34m\u001b[0m\u001b[0;34m\u001b[0m\u001b[0m\n\u001b[0m",
            "\u001b[0;31mValueError\u001b[0m: matmul: Input operand 1 does not have enough dimensions (has 0, gufunc core with signature (n?,k),(k,m?)->(n?,m?) requires 1)"
          ]
        }
      ]
    },
    {
      "cell_type": "markdown",
      "metadata": {
        "id": "vdZ1uRNem0hM"
      },
      "source": [
        "Scalar multiplication raises an error.\n"
      ]
    },
    {
      "cell_type": "markdown",
      "metadata": {
        "id": "SPCh3nAKm0hM"
      },
      "source": [
        "numpy.matmul() is a very important linear algebra function. The Numpy matmul() function is used to return the matrix product of 2 arrays. "
      ]
    },
    {
      "cell_type": "code",
      "metadata": {
        "id": "VBBo66xXm0hM"
      },
      "source": [
        "jovian.commit()"
      ],
      "execution_count": null,
      "outputs": []
    },
    {
      "cell_type": "markdown",
      "metadata": {
        "id": "FaWmfkErm0hP"
      },
      "source": [
        "## Conclusion\n",
        "\n",
        "Here, we have discussed about some of the important Numpy Functions with detailed examples."
      ]
    },
    {
      "cell_type": "markdown",
      "metadata": {
        "id": "Mvo7-gFam0hP"
      },
      "source": [
        "## Reference Links\n",
        "Provide links to your references and other interesting articles about Numpy arrays:\n",
        "* Numpy official tutorial : https://numpy.org/doc/stable/user/quickstart.html\n"
      ]
    },
    {
      "cell_type": "code",
      "metadata": {
        "id": "pLXJJb1Am0hP",
        "outputId": "f2a7ff68-b426-403a-c340-9866b01b5a57"
      },
      "source": [
        "jovian.commit()"
      ],
      "execution_count": null,
      "outputs": [
        {
          "output_type": "display_data",
          "data": {
            "application/javascript": [
              "window.require && require([\"base/js/namespace\"],function(Jupyter){Jupyter.notebook.save_checkpoint()})"
            ],
            "text/plain": [
              "<IPython.core.display.Javascript object>"
            ]
          },
          "metadata": {
            "tags": []
          }
        }
      ]
    },
    {
      "cell_type": "code",
      "metadata": {
        "id": "QgjM1nOLm0hS"
      },
      "source": [
        ""
      ],
      "execution_count": null,
      "outputs": []
    },
    {
      "cell_type": "code",
      "metadata": {
        "id": "ZKsa4FNxm0hW"
      },
      "source": [
        ""
      ],
      "execution_count": null,
      "outputs": []
    }
  ]
}